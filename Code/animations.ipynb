{
 "cells": [
  {
   "cell_type": "markdown",
   "metadata": {},
   "source": [
    "# Math 243\n",
    "**Harvard University**<br>"
   ]
  },
  {
   "cell_type": "code",
   "execution_count": 12,
   "metadata": {
    "collapsed": true
   },
   "outputs": [],
   "source": [
    "### Joseph Hostyk\n",
    "\n",
    "### Math 243\n",
    "\n",
    "### Setup of classes\n",
    "\n",
    "import copy\n",
    "import numpy as np\n",
    "import random\n",
    "\n",
    "class Graph(object):\n",
    "\n",
    "    def __init__(self, numNodes):\n",
    "        self.genotypes = []\n",
    "        self.numNodes = numNodes\n",
    "        # Weights is a matrix\n",
    "        self.weights = None\n",
    "        self.selectionMatrix = None\n",
    "        self.genotypeCounts = {}\n",
    "\n",
    "    def __str__(self):\n",
    "        s = \"\"\n",
    "        for i, geno in enumerate(self.genotypes):\n",
    "            s += \"{}. Neighbors: \".format(geno)\n",
    "            for j in range(self.numNodes):\n",
    "                if i != j and self.weights[i][j] != 0.0:\n",
    "                    s += self.genotypes[j] + \", \"\n",
    "            s += \"\\n\"\n",
    "        return s\n",
    "\n",
    "\n",
    "    # # Not sure if this is still necessary; maybe implement later.\n",
    "    # def addNode(self, node, neighbors):\n",
    "    #     return\n",
    "\n",
    "    # Helpful to just have the frequencies in a dict. Call this after\n",
    "    # the genotypes array is initialized.\n",
    "    def calculateGenotypeFrequencies(self):\n",
    "        for g in self.genotypes:\n",
    "            if g not in self.genotypeCounts:\n",
    "                self.genotypeCounts[g] = 0\n",
    "            self.genotypeCounts[g] += 1\n",
    "\n",
    "    def replaceNode(self, oldIndex, newGenotype):\n",
    "        self.genotypeCounts[self.genotypes[oldIndex]] -= 1\n",
    "        self.genotypes[oldIndex] = newGenotype\n",
    "        if newGenotype not in self.genotypeCounts:\n",
    "            self.genotypeCounts[newGenotype] = 0\n",
    "        self.genotypeCounts[newGenotype] += 1        \n",
    "\n",
    "\n",
    "    # def calculateTotalFitness(self):\n",
    "    #     totalFitness = 0.0\n",
    "    #     for node in self.graph:\n",
    "    #         totalFitness += node.fitness\n",
    "    #     self.totalFitness = totalFitness\n",
    "    #     return totalFitness\n",
    "\n",
    "    # def updateTotalFitness(self, difference):\n",
    "    #     self.totalFitness += difference\n",
    "\n",
    "class Lattice(Graph):\n",
    "\n",
    "    def __init__(self, rows, cols):\n",
    "        Graph.__init__(self, rows*cols)\n",
    "        self.numRows = rows\n",
    "        self.numCols = cols\n",
    "        self.weights = [[0]*self.numNodes for i in range(self.numNodes)]\n",
    "\n",
    "        self.genotypes = [\"AA\"]*(rows*cols)\n",
    "        self.calculateGenotypeFrequencies()\n",
    "\n",
    "        for r in range(rows):\n",
    "            for c in range(cols):\n",
    "                neighbors = []\n",
    "                # Being careful of the edges:\n",
    "                if r != 0:\n",
    "                    self.weights[r*rows+c][(r-1)*rows+c] = 1\n",
    "                if r != rows -1 :\n",
    "                    self.weights[r*rows+c][(r+1)*rows+c] = 1\n",
    "                if c != 0:\n",
    "                    self.weights[r*rows+c][r*rows+c -1] = 1\n",
    "                if c != cols - 1:\n",
    "                    self.weights[r*rows+c][r*rows+c + 1] = 1\n",
    "\n",
    "    def __str__(self):\n",
    "        s = \"\"\n",
    "        for r in range(self.numRows):\n",
    "            for c in range(self.numCols):\n",
    "                s += self.genotypes[r*c-1] + \" \"\n",
    "            s += \"\\n\"\n",
    "        return s\n",
    "\n",
    "class FullyConnected(Graph):\n",
    "    def __init__(self, numNodes):\n",
    "        Graph.__init__(self, numNodes)\n",
    "        self.weights = [[1]*self.numNodes for i in range(self.numNodes)]\n",
    "        self.genotypes = [\"AA\"]*(numNodes)        \n",
    "        self.calculateGenotypeFrequencies()\n",
    "\n",
    "\n",
    "class Bipartite(Graph):\n",
    "    def __init__(self, numNodes, fitness, deathrate, genotype):\n",
    "        Graph.__init__(self)"
   ]
  },
  {
   "cell_type": "code",
   "execution_count": 13,
   "metadata": {
    "collapsed": true
   },
   "outputs": [],
   "source": [
    "### driveOnGraphs: runs the simulations\n",
    "\n",
    "import copy\n",
    "import sys\n",
    "import numpy as np\n",
    "\n",
    "from graphs import *\n",
    "\n",
    "# from plotlySignIn import *\n",
    "\n",
    "# The probability that a Driven gene produces a Driven offspring\n",
    "P = 1.0\n",
    "\n",
    "fitness = {\"AA\": 1.0, \"AD\": 1.0, \"DD\": 1.0}\n",
    "deathRates = {\"AA\": 1.0, \"AD\": 1.0, \"DD\": 1.0}\n",
    "\n",
    "\n",
    "\n",
    "def findTotalFitness(genotypes):\n",
    "    totalFitness = 0.0\n",
    "    for g in genotypes:\n",
    "        totalFitness += fitness[g]\n",
    "    return totalFitness\n",
    "\n",
    "# What offspring will be produced by A and B?\n",
    "def matingOutcome(A, B):\n",
    "\n",
    "    possibleOffspring = [\"DD\", \"AD\", \"AA\"]\n",
    "\n",
    "    # We use Chuck's mating-tables to find the probabilities of each offspring.\n",
    "    # The array returned is the probability of DD, AD, and AA offspring respectively.\n",
    "    matingTable = {\n",
    "        (\"AA\", \"AA\"): [0.0, 0.0, 1.0],\n",
    "        (\"AA\", \"AD\"): [1/2.0 * P, 1/2.0 - 1/2.0 * P, 1/2.0],\n",
    "        (\"AA\", \"DD\"): [P, 1- P, 0.0],\n",
    "        (\"AD\", \"AD\"): [1/4.0 + 1/2.0 * P, 1/2.0 - 1/2.0 * P, 1/4.0],\n",
    "        (\"AD\", \"DD\"): [1/2.0  + 1/2.0 * P, 1/2.0 - 1/2.0 * P, 0],\n",
    "        (\"DD\", \"DD\"): [1.0, 0.0, 0.0]\n",
    "    }\n",
    "\n",
    "    # The table above only includes 6 of the 9 possible matings,\n",
    "    # since we don't care about order.\n",
    "    # That raises errors, for ones that are in different orders.\n",
    "    # (E.g. (AD,DD) is in the dic, so (DD, AD) raises an error.)\n",
    "    # Not sure how to cleanly deal with that, so we just catch the error.\n",
    "\n",
    "    try:\n",
    "        probs = matingTable[(A, B)]\n",
    "    except KeyError:\n",
    "        probs = matingTable[(B, A)]        \n",
    "    offspring = np.random.choice(possibleOffspring, size=1, p = probs)[0]\n",
    "    return offspring\n",
    "\n",
    "\n",
    "# Takes in the array of genotypes, and the number of individuals in the population.\n",
    "\n",
    "def runGeneration(G):\n",
    "    N = G.numNodes\n",
    "    totalFitness = findTotalFitness(G.genotypes)\n",
    "    matingProbs = {}\n",
    "    # Go through the upper-right triangle of the matrix:\n",
    "    for i in range(N):\n",
    "        for j in range(i+1, N):\n",
    "            matingProb = fitness[G.genotypes[i]]*fitness[G.genotypes[j]]*G.weights[i][j]\n",
    "            matingProbs[(i, j)] = matingProb\n",
    "\n",
    "    # Now we have a dictionary that matches every pair with its probability of being a mate.\n",
    "    # Not normalized probability though.\n",
    "\n",
    "    # Choose a random pair:\n",
    "\n",
    "    normalizedMatingProbs = np.array(matingProbs.values())/sum(matingProbs.values())\n",
    "    index = np.random.choice(range(len(matingProbs.keys())), size=1, p = normalizedMatingProbs)[0]\n",
    "    iRandMate, jRandMate = matingProbs.keys()[index]\n",
    "\n",
    "    childGenotype = matingOutcome(G.genotypes[iRandMate], G.genotypes[jRandMate])\n",
    "\n",
    "    # Find the neighbor to die:\n",
    "    deathProbs = {}\n",
    "\n",
    "    possibleForDeath = range(N)\n",
    "\n",
    "    # Can't replace the parents.\n",
    "    possibleForDeath.remove(iRandMate)\n",
    "    possibleForDeath.remove(jRandMate)\n",
    "\n",
    "    for k in possibleForDeath:\n",
    "        deathProbs[k] = deathRates[G.genotypes[k]] * (G.weights[iRandMate][k] + G.weights[jRandMate][k])\n",
    "    normalizedDeathProbs = np.array(deathProbs.values())/sum(deathProbs.values())\n",
    "    toDie = np.random.choice(possibleForDeath, size=1, p = normalizedDeathProbs)[0]\n",
    "    G.replaceNode(toDie, childGenotype)\n",
    "\n",
    "\n",
    "    return\n",
    "\n",
    "# Taking in a dict where the keys are diploid genotypes, e.g. \"AD\".\n",
    "# We want to see how many many \"D\"s there are.\n",
    "def getDriveAlleleFreq(G):\n",
    "    freq = 0.0\n",
    "    for geno in G.genotypeCounts:\n",
    "        if geno == \"AD\":\n",
    "            freq += 1 * G.genotypeCounts[geno]\n",
    "        if geno == \"DD\":\n",
    "            freq += 2 * G.genotypeCounts[geno]\n",
    "    return freq/(2*G.numNodes)\n",
    "\n",
    "def oneSimulation(G, indicesOfInitalDrive):\n",
    "    # Start Drive:\n",
    "    for i in indicesOfInitalDrive:\n",
    "        G.replaceNode(i, \"DD\")\n",
    "    DFreqs = []\n",
    "    DFreq = -1.0\n",
    "    numGens = 0\n",
    "    while(DFreq != 0.0 and DFreq != 1.0):\n",
    "        sys.stdout.flush()\n",
    "        print \"Current Gen: {}\\r\".format(numGens),\n",
    "        numGens += 1\n",
    "        runGeneration(G)\n",
    "        DFreq = getDriveAlleleFreq(G)\n",
    "        DFreqs.append(DFreq)\n",
    "    Fixed = DFreq == 1.0\n",
    "    return DFreqs, numGens, Fixed\n",
    "\n",
    "def manySimulations(G, indicesOfInitalDrive, numSims):\n",
    "    numFixed = 0.0\n",
    "    arrayOfDFreqs = []\n",
    "    for i in range(numSims):\n",
    "        graph = copy.deepcopy(G)\n",
    "        print \"Sim # {}\\r\".format(i)\n",
    "        DFreqs, numGens, Fixed = oneSimulation(graph, indicesOfInitalDrive)         \n",
    "        numFixed += Fixed\n",
    "        arrayOfDFreqs.append(DFreqs)\n",
    "        sys.stdout.flush()\n",
    "    fixationRate = numFixed/numSims\n",
    "    return fixationRate"
   ]
  },
  {
   "cell_type": "code",
   "execution_count": 47,
   "metadata": {
    "collapsed": false
   },
   "outputs": [],
   "source": [
    "## Plotting\n",
    "\n",
    "def createLatticeGenotypeTimestep(L):\n",
    "    genotypeXs = {}\n",
    "    genotypeYs = {}\n",
    "    genotypeColorKey = {}\n",
    "    genotypeColorsArrayForPlotting = {}\n",
    "    genotypesIndex = 0\n",
    "    for r in range(L.numRows):\n",
    "        for c in range(L.numCols):\n",
    "            currentGenotype = L.genotypes[genotypesIndex]\n",
    "            # If we haven't seen this genotype yet, add entries in all the dictionaries.\n",
    "            if currentGenotype not in genotypeXs:\n",
    "                genotypeXs[currentGenotype] = []\n",
    "                genotypeYs[currentGenotype] = []\n",
    "                genotypeColorKey[currentGenotype] = 'rgb({}, {}, {})'.format(random.randint(0,255), random.randint(0,255), random.randint(0,255))\n",
    "                genotypeColorsArrayForPlotting = []\n",
    "                \n",
    "            genotypeXs[currentGenotype].append(c)\n",
    "            genotypeYs[currentGenotype].append(r)\n",
    "            # Seems like plotly requires things to be the same length. So we create white circles for the other genotypes\n",
    "            for g in genotypeColorsArrayForPlotting:\n",
    "                if g == currentGenotype:\n",
    "                    genotypeColorsArrayForPlotting[g].append(genotypeColorKey[g]) \n",
    "                else:\n",
    "                    genotypeColorsArrayForPlotting[g].append('rgb(0, 0, 0)')    \n",
    "            \n",
    "            genotypesIndex += 1\n",
    "    data = []\n",
    "    for genotype in genotypeXs:\n",
    "        n = len(genotypeXs[genotype])\n",
    "        data.append({'x': genotypeXs[genotype], 'y': genotypeYs[genotype], 'name': genotype, 'mode': 'markers', 'marker':\n",
    "            {'color': [genotypeColors[genotype]]*n,'size': [20]*n} })\n",
    "    \n",
    "    return data"
   ]
  },
  {
   "cell_type": "code",
   "execution_count": 50,
   "metadata": {
    "collapsed": false
   },
   "outputs": [
    {
     "name": "stdout",
     "output_type": "stream",
     "text": [
      "[{'y': [0, 0, 1, 1], 'x': [0, 1, 0, 1], 'mode': 'markers', 'marker': {'color': ['rgb(198, 43, 171)', 'rgb(198, 43, 171)', 'rgb(198, 43, 171)', 'rgb(198, 43, 171)'], 'size': [20, 20, 20, 20]}}]\n"
     ]
    }
   ],
   "source": [
    "L = Lattice(2,2)\n",
    "timestep1 = createLatticeGenotypeTimestep(L)\n",
    "L.replaceNode(1, \"DD\")\n",
    "timestep2 = createLatticeGenotypeTimestep(L)\n",
    "L.replaceNode(3, \"DD\")\n",
    "timestep3 = createLatticeGenotypeTimestep(L)\n",
    "timesteps = [timestep1, timestep2, timestep3]\n",
    "\n",
    "print timestep1"
   ]
  },
  {
   "cell_type": "code",
   "execution_count": 53,
   "metadata": {
    "collapsed": false
   },
   "outputs": [
    {
     "name": "stdout",
     "output_type": "stream",
     "text": [
      "[{'data': [{'y': [0, 0, 1, 1], 'x': [0, 1, 0, 1], 'mode': 'markers', 'marker': {'color': ['rgb(198, 43, 171)', 'rgb(198, 43, 171)', 'rgb(198, 43, 171)', 'rgb(198, 43, 171)'], 'size': [20, 20, 20, 20]}}]}, {'data': [{'y': [0, 0, 1, 1], 'x': [0, 1, 0, 1], 'mode': 'markers', 'marker': {'color': ['rgb(45, 4, 32)', 'rgb(50, 203, 48)', 'rgb(45, 4, 32)', 'rgb(45, 4, 32)'], 'size': [20, 20, 20, 20]}}]}, {'data': [{'y': [0, 0, 1, 1], 'x': [0, 1, 0, 1], 'mode': 'markers', 'marker': {'color': ['rgb(97, 140, 133)', 'rgb(23, 96, 97)', 'rgb(97, 140, 133)', 'rgb(23, 96, 97)'], 'size': [20, 20, 20, 20]}}]}]\n"
     ]
    }
   ],
   "source": [
    "frames = []\n",
    "for t in timesteps:\n",
    "    frames.append({'data': t})\n",
    "figure = {'data': [{'y': [0, 0, 1, 1], 'x': [0, 1, 0, 1], 'name': 'AA', 'marker': {'color': ['rgb(122, 189, 85)', 'rgb(122, 189, 85)', 'rgb(122, 189, 85)', 'rgb(122, 189, 85)'], 'size': [20, 20, 20, 20]}, 'mode': 'markers'}],\n",
    "          'layout': {'xaxis': {'range': [0, 5], 'autorange': False},\n",
    "                     'yaxis': {'range': [0, 5], 'autorange': False},\n",
    "                     'title': 'Start Title',\n",
    "                     'updatemenus': [{'type': 'buttons',\n",
    "                                      'buttons': [{'label': 'Play',\n",
    "                                                   'method': 'animate',\n",
    "                                                   'args': [None]},\n",
    "                                                  {\n",
    "                                                    'args': [[None], {'frame': {'duration': 0, 'redraw': False}, 'mode': 'immediate',\n",
    "                                                    'transition': {'duration': 0}}],\n",
    "                                                    'label': 'Pause',\n",
    "                                                    'method': 'animate'\n",
    "                                                }]}]\n",
    "                    },\n",
    "          'frames': frames}\n",
    "   \n",
    "\n",
    "print frames\n",
    "figure['data'] = frames[0]\n",
    "figure['frames'] = frames\n",
    "\n",
    "# iplot(figure)"
   ]
  },
  {
   "cell_type": "code",
   "execution_count": 52,
   "metadata": {
    "collapsed": false
   },
   "outputs": [
    {
     "data": {
      "text/html": [
       "<script>requirejs.config({paths: { 'plotly': ['https://cdn.plot.ly/plotly-latest.min']},});if(!window.Plotly) {{require(['plotly'],function(plotly) {window.Plotly=plotly;});}}</script>"
      ],
      "text/vnd.plotly.v1+html": [
       "<script>requirejs.config({paths: { 'plotly': ['https://cdn.plot.ly/plotly-latest.min']},});if(!window.Plotly) {{require(['plotly'],function(plotly) {window.Plotly=plotly;});}}</script>"
      ]
     },
     "metadata": {},
     "output_type": "display_data"
    },
    {
     "data": {
      "application/vnd.plotly.v1+json": {
       "data": [
        {
         "marker": {
          "color": [
           "rgb(231, 47, 29)",
           "rgb(231, 47, 29)",
           "rgb(231, 47, 29)"
          ],
          "size": [
           20,
           20,
           20
          ]
         },
         "mode": "markers",
         "name": "AA",
         "x": [
          1,
          0,
          1
         ],
         "y": [
          0,
          1,
          1
         ]
        },
        {
         "marker": {
          "color": [
           "rgb(18, 177, 47)"
          ],
          "size": [
           20
          ]
         },
         "mode": "markers",
         "name": "DD",
         "x": [
          0
         ],
         "y": [
          0
         ]
        }
       ],
       "layout": {
        "title": "Start Title",
        "updatemenus": [
         {
          "buttons": [
           {
            "args": [
             null
            ],
            "label": "Play",
            "method": "animate"
           },
           {
            "args": [
             [
              null
             ],
             {
              "frame": {
               "duration": 0,
               "redraw": false
              },
              "mode": "immediate",
              "transition": {
               "duration": 0
              }
             }
            ],
            "label": "Pause",
            "method": "animate"
           }
          ],
          "type": "buttons"
         }
        ],
        "xaxis": {
         "autorange": false,
         "range": [
          0,
          5
         ]
        },
        "yaxis": {
         "autorange": false,
         "range": [
          0,
          5
         ]
        }
       }
      },
      "text/html": [
       "<div id=\"4e01d5c4-e4c0-4381-8f86-817f22449b16\" style=\"height: 525px; width: 100%;\" class=\"plotly-graph-div\"></div><script type=\"text/javascript\">require([\"plotly\"], function(Plotly) { window.PLOTLYENV=window.PLOTLYENV || {};window.PLOTLYENV.BASE_URL=\"https://plot.ly\";\n",
       "        Plotly.plot(\n",
       "            '4e01d5c4-e4c0-4381-8f86-817f22449b16',\n",
       "            [{\"y\": [0, 1, 1], \"x\": [1, 0, 1], \"name\": \"AA\", \"marker\": {\"color\": [\"rgb(231, 47, 29)\", \"rgb(231, 47, 29)\", \"rgb(231, 47, 29)\"], \"size\": [20, 20, 20]}, \"mode\": \"markers\"}, {\"y\": [0], \"x\": [0], \"name\": \"DD\", \"marker\": {\"color\": [\"rgb(18, 177, 47)\"], \"size\": [20]}, \"mode\": \"markers\"}],\n",
       "            {\"yaxis\": {\"range\": [0, 5], \"autorange\": false}, \"xaxis\": {\"range\": [0, 5], \"autorange\": false}, \"updatemenus\": [{\"buttons\": [{\"args\": [null], \"method\": \"animate\", \"label\": \"Play\"}, {\"args\": [[null], {\"frame\": {\"duration\": 0, \"redraw\": false}, \"transition\": {\"duration\": 0}, \"mode\": \"immediate\"}], \"method\": \"animate\", \"label\": \"Pause\"}], \"type\": \"buttons\"}], \"title\": \"Start Title\"},\n",
       "            {\"linkText\": \"Export to plot.ly\", \"showLink\": true}\n",
       "        ).then(function () {return Plotly.addFrames('4e01d5c4-e4c0-4381-8f86-817f22449b16',[{\"data\": [{\"y\": [0, 1, 1], \"x\": [1, 0, 1], \"name\": \"AA\", \"marker\": {\"color\": [\"rgb(231, 47, 29)\", \"rgb(231, 47, 29)\", \"rgb(231, 47, 29)\"], \"size\": [20, 20, 20]}, \"mode\": \"markers\"}, {\"y\": [0], \"x\": [0], \"name\": \"DD\", \"marker\": {\"color\": [\"rgb(18, 177, 47)\"], \"size\": [20]}, \"mode\": \"markers\"}]}, {\"data\": [{\"y\": [1, 1], \"x\": [0, 1], \"name\": \"AA\", \"marker\": {\"color\": [\"rgb(149, 217, 103)\", \"rgb(149, 217, 103)\"], \"size\": [20, 20]}, \"mode\": \"markers\"}, {\"y\": [0, 0], \"x\": [0, 1], \"name\": \"DD\", \"marker\": {\"color\": [\"rgb(195, 227, 73)\", \"rgb(195, 227, 73)\"], \"size\": [20, 20]}, \"mode\": \"markers\"}]}, {\"data\": [{\"y\": [1], \"x\": [0], \"name\": \"AA\", \"marker\": {\"color\": [\"rgb(153, 35, 77)\"], \"size\": [20]}, \"mode\": \"markers\"}, {\"y\": [0, 0, 1], \"x\": [0, 1, 1], \"name\": \"DD\", \"marker\": {\"color\": [\"rgb(11, 118, 241)\", \"rgb(11, 118, 241)\", \"rgb(11, 118, 241)\"], \"size\": [20, 20, 20]}, \"mode\": \"markers\"}]}]);}).then(function(){Plotly.animate('4e01d5c4-e4c0-4381-8f86-817f22449b16');})\n",
       "        });</script>"
      ],
      "text/vnd.plotly.v1+html": [
       "<div id=\"4e01d5c4-e4c0-4381-8f86-817f22449b16\" style=\"height: 525px; width: 100%;\" class=\"plotly-graph-div\"></div><script type=\"text/javascript\">require([\"plotly\"], function(Plotly) { window.PLOTLYENV=window.PLOTLYENV || {};window.PLOTLYENV.BASE_URL=\"https://plot.ly\";\n",
       "        Plotly.plot(\n",
       "            '4e01d5c4-e4c0-4381-8f86-817f22449b16',\n",
       "            [{\"y\": [0, 1, 1], \"x\": [1, 0, 1], \"name\": \"AA\", \"marker\": {\"color\": [\"rgb(231, 47, 29)\", \"rgb(231, 47, 29)\", \"rgb(231, 47, 29)\"], \"size\": [20, 20, 20]}, \"mode\": \"markers\"}, {\"y\": [0], \"x\": [0], \"name\": \"DD\", \"marker\": {\"color\": [\"rgb(18, 177, 47)\"], \"size\": [20]}, \"mode\": \"markers\"}],\n",
       "            {\"yaxis\": {\"range\": [0, 5], \"autorange\": false}, \"xaxis\": {\"range\": [0, 5], \"autorange\": false}, \"updatemenus\": [{\"buttons\": [{\"args\": [null], \"method\": \"animate\", \"label\": \"Play\"}, {\"args\": [[null], {\"frame\": {\"duration\": 0, \"redraw\": false}, \"transition\": {\"duration\": 0}, \"mode\": \"immediate\"}], \"method\": \"animate\", \"label\": \"Pause\"}], \"type\": \"buttons\"}], \"title\": \"Start Title\"},\n",
       "            {\"linkText\": \"Export to plot.ly\", \"showLink\": true}\n",
       "        ).then(function () {return Plotly.addFrames('4e01d5c4-e4c0-4381-8f86-817f22449b16',[{\"data\": [{\"y\": [0, 1, 1], \"x\": [1, 0, 1], \"name\": \"AA\", \"marker\": {\"color\": [\"rgb(231, 47, 29)\", \"rgb(231, 47, 29)\", \"rgb(231, 47, 29)\"], \"size\": [20, 20, 20]}, \"mode\": \"markers\"}, {\"y\": [0], \"x\": [0], \"name\": \"DD\", \"marker\": {\"color\": [\"rgb(18, 177, 47)\"], \"size\": [20]}, \"mode\": \"markers\"}]}, {\"data\": [{\"y\": [1, 1], \"x\": [0, 1], \"name\": \"AA\", \"marker\": {\"color\": [\"rgb(149, 217, 103)\", \"rgb(149, 217, 103)\"], \"size\": [20, 20]}, \"mode\": \"markers\"}, {\"y\": [0, 0], \"x\": [0, 1], \"name\": \"DD\", \"marker\": {\"color\": [\"rgb(195, 227, 73)\", \"rgb(195, 227, 73)\"], \"size\": [20, 20]}, \"mode\": \"markers\"}]}, {\"data\": [{\"y\": [1], \"x\": [0], \"name\": \"AA\", \"marker\": {\"color\": [\"rgb(153, 35, 77)\"], \"size\": [20]}, \"mode\": \"markers\"}, {\"y\": [0, 0, 1], \"x\": [0, 1, 1], \"name\": \"DD\", \"marker\": {\"color\": [\"rgb(11, 118, 241)\", \"rgb(11, 118, 241)\", \"rgb(11, 118, 241)\"], \"size\": [20, 20, 20]}, \"mode\": \"markers\"}]}]);}).then(function(){Plotly.animate('4e01d5c4-e4c0-4381-8f86-817f22449b16');})\n",
       "        });</script>"
      ]
     },
     "metadata": {},
     "output_type": "display_data"
    }
   ],
   "source": [
    "from plotly.offline import init_notebook_mode, iplot\n",
    "from IPython.display import display, HTML\n",
    "\n",
    "init_notebook_mode(connected=True)\n",
    "\n",
    "figure = {'data': [{'y': [0, 1, 1], 'x': [1, 0, 1], 'name': 'AA', 'marker': {'color': ['rgb(231, 47, 29)', 'rgb(231, 47, 29)', 'rgb(231, 47, 29)'], 'size': [20, 20, 20]}, 'mode': 'markers'}, {'y': [0], 'x': [0], 'name': 'DD', 'marker': {'color': ['rgb(18, 177, 47)'], 'size': [20]}, 'mode': 'markers'}],\n",
    "          'layout': {'xaxis': {'range': [0, 5], 'autorange': False},\n",
    "                     'yaxis': {'range': [0, 5], 'autorange': False},\n",
    "                     'title': 'Start Title',\n",
    "                     'updatemenus': [{'type': 'buttons',\n",
    "                                      'buttons': [{'label': 'Play',\n",
    "                                                   'method': 'animate',\n",
    "                                                   'args': [None]},\n",
    "                                                  {\n",
    "                                                    'args': [[None], {'frame': {'duration': 0, 'redraw': False}, 'mode': 'immediate',\n",
    "                                                    'transition': {'duration': 0}}],\n",
    "                                                    'label': 'Pause',\n",
    "                                                    'method': 'animate'\n",
    "                                                }]}]\n",
    "                    },\n",
    "          'frames': [{'data': [{'y': [0, 1, 1], 'x': [1, 0, 1], 'name': 'AA', 'marker': {'color': ['rgb(231, 47, 29)', 'rgb(231, 47, 29)', 'rgb(231, 47, 29)'], 'size': [20, 20, 20]}, 'mode': 'markers'}, {'y': [0], 'x': [0], 'name': 'DD', 'marker': {'color': ['rgb(18, 177, 47)'], 'size': [20]}, 'mode': 'markers'}]},\n",
    "                     {'data': [{'y': [1, 1], 'x': [0, 1], 'name': 'AA', 'marker': {'color': ['rgb(149, 217, 103)', 'rgb(149, 217, 103)'], 'size': [20, 20]}, 'mode': 'markers'}, {'y': [0, 0], 'x': [0, 1], 'name': 'DD', 'marker': {'color': ['rgb(195, 227, 73)', 'rgb(195, 227, 73)'], 'size': [20, 20]}, 'mode': 'markers'}]},\n",
    "                     {'data': [{'y': [1], 'x': [0], 'name': 'AA', 'marker': {'color': ['rgb(153, 35, 77)'], 'size': [20]}, 'mode': 'markers'}, {'y': [0, 0, 1], 'x': [0, 1, 1], 'name': 'DD', 'marker': {'color': ['rgb(11, 118, 241)', 'rgb(11, 118, 241)', 'rgb(11, 118, 241)'], 'size': [20, 20, 20]}, 'mode': 'markers'}]}]}\n",
    "          \n",
    "iplot(figure)"
   ]
  },
  {
   "cell_type": "markdown",
   "metadata": {},
   "source": [
    "---"
   ]
  }
 ],
 "metadata": {
  "anaconda-cloud": {},
  "kernelspec": {
   "display_name": "Python [Root]",
   "language": "python",
   "name": "Python [Root]"
  },
  "language_info": {
   "codemirror_mode": {
    "name": "ipython",
    "version": 2
   },
   "file_extension": ".py",
   "mimetype": "text/x-python",
   "name": "python",
   "nbconvert_exporter": "python",
   "pygments_lexer": "ipython2",
   "version": "2.7.12"
  }
 },
 "nbformat": 4,
 "nbformat_minor": 0
}
